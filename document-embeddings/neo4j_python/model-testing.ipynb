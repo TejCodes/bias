{
 "cells": [
  {
   "cell_type": "code",
   "execution_count": 1,
   "metadata": {},
   "outputs": [],
   "source": [
    "import json\n",
    "\n",
    "from gensim.models.doc2vec import Doc2Vec\n",
    "\n",
    "from doc2vec_prep import stem_text"
   ]
  },
  {
   "cell_type": "code",
   "execution_count": 2,
   "metadata": {},
   "outputs": [],
   "source": [
    "def print_results(simdocs):\n",
    "    for doc_id, sim in simdocs:\n",
    "        try:\n",
    "            print(publications[doc_id]['title'])\n",
    "        except:\n",
    "            print(projects[doc_id]['title'])"
   ]
  },
  {
   "cell_type": "code",
   "execution_count": 3,
   "metadata": {},
   "outputs": [],
   "source": [
    "def read_input(filename, type):\n",
    "    with open(filename) as f:\n",
    "        docs = json.load(f)\n",
    "    print(f'Loaded {len(docs)} {type}')\n",
    "    return docs"
   ]
  },
  {
   "cell_type": "code",
   "execution_count": 4,
   "metadata": {},
   "outputs": [
    {
     "name": "stdout",
     "output_type": "stream",
     "text": [
      "Loaded 19451 publications\n",
      "Loaded 2202 projects\n"
     ]
    }
   ],
   "source": [
    "publications_file = 'epcc_inf_publications.json'\n",
    "projects_file = 'epcc_inf_projects.json'\n",
    "staff_file = 'epcc_inf_staff.json'\n",
    "\n",
    "publications = read_input(publications_file, 'publications')\n",
    "projects = read_input(projects_file, 'projects')"
   ]
  },
  {
   "cell_type": "code",
   "execution_count": 5,
   "metadata": {},
   "outputs": [],
   "source": [
    "def similar_docs(model, text):\n",
    "    vector = model.infer_vector(stem_text(text))\n",
    "    simdocs = model.docvecs.most_similar(positive=[vector])\n",
    "    return simdocs"
   ]
  },
  {
   "cell_type": "code",
   "execution_count": 6,
   "metadata": {},
   "outputs": [],
   "source": [
    "dare = '''\n",
    "DARE will deliver a new working environment for the teams of professionals wrestling with the challenge of extreme data, computing and complexity. It will present methods, in abstract terms, so that domain experts can understand, change and use them effectively. It will provide a set of tools that visualise the runs of these methods in summary form still without distracting technical detail. Those tools will allow drill down for diagnostics and validation, and help with the organisation of campaigns involving multiple runs and immense amount of data. This holistic abstract presentation together with automation that eliminates chores will push back the complexity barrier, accelerate innovation and improve the productivity of our hard-pressed expert teams. The data-scale barrier will be pushed by a combination of optimised mappings and automation. To achieve this, we depend on learning the critical parameters in the cost functions dynamically, taking into account data movement, storage costs, limits and other resource costs in formulae weighted by community choices and priorities. The computational scale barrier will be pushed by a similar strategy. However, the methods we enable often have a mixture of computationally challenging parts and data challenging parts, best allocated to different platforms. In today’s R&D the practitioners have to organise this and the inherent data movement themselves. DARE’s optimised mappings will automatically partition parts of the work to different platforms and organise the coupled use of those platforms including any necessary data movements and adaptations. Most professional R&D requires sustained use of such methods. Sustaining their meaning across platforms means that working practices do not need to change and that the original investment in learning and in method development is retained. DARE will work with two research infrastructures: EPOS (European Plate Observing System) and IS-ENES (Infrastructure for the European Network of Earth System Modelling), engaging in the co-design and production use of extreme methods that address these challenges. With our partners, we will show:Accelerated innovation in the face of all three extremes. Significantly increased productivity for expert teams and a wide range of users. Substantial advances in the science and applications achievable in campaigns.\n",
    "'''"
   ]
  },
  {
   "cell_type": "code",
   "execution_count": 7,
   "metadata": {},
   "outputs": [],
   "source": [
    "rse_fellowship = '''\n",
    "This call will support Research Software Engineer (RSE) Fellowships for a period of up to five years. The RSE Fellowship describes exceptional individuals in the software field, who demonstrate leadership and have combined expertise in programming and a solid knowledge of the research environment. The Research Software Engineer works with researchers to gain an understanding of the problems they face, and then develops, maintains and extends software to provide the answers.\n",
    "As well as having expertise in computational software development and engineering, the RSE Fellow should be an ambassador for the research software community and have the potential to be a future research leader in the RSE community.'''"
   ]
  },
  {
   "cell_type": "code",
   "execution_count": 8,
   "metadata": {},
   "outputs": [],
   "source": [
    "model_cbow = Doc2Vec.load('cbow.model', mmap='r')"
   ]
  },
  {
   "cell_type": "code",
   "execution_count": 9,
   "metadata": {},
   "outputs": [
    {
     "name": "stdout",
     "output_type": "stream",
     "text": [
      "Establishing Core Concepts for Information-Powered Collaborations\n",
      "Providing Dependability and Resilience in the Cloud: Challenges and Opportunities\n",
      "A scientist's guide to cloud computing\n",
      "dispel4py: An Agile Framework for Data-Intensive methods using HPC\n",
      "DIALOGUE Data intergration applications: Linking organisations to gain understanding & Experience\n",
      "iPregel: Strategies to Deal with an Extreme Form of Irregularity in Vertex-Centric Graph Processing\n",
      "Navigating the Landscape for Real-time Localisation and Mapping for Robotics, Virtual and Augmented Reality\n",
      "A characterization of workflow management systems for extreme-scale applications\n",
      "Computing with Structured Connectionist Networks\n",
      "Comprehensible Control for Researchers and Developers facing Data Challenges\n"
     ]
    }
   ],
   "source": [
    "# test CBOW model\n",
    "simdocs = similar_docs(model_cbow, dare)\n",
    "print_results(simdocs)"
   ]
  },
  {
   "cell_type": "code",
   "execution_count": 10,
   "metadata": {},
   "outputs": [
    {
     "name": "stdout",
     "output_type": "stream",
     "text": [
      "ADA Lovelace Computer Scientist\n",
      "CHSS Mid-Career Research Development Fellowship\n",
      "Computational Modelling of Mathematical Reasoning\n",
      "RSE Travel assistance grant\n",
      "Computational Modelling of Mathematical Reasoning\n",
      "Computational Modelling of Mathematical Reasoning\n",
      "Computational Modelling of Mathematical Reasoning\n",
      "Computational Modelling of Mathematical Reasoning\n",
      "Computational Modelling of Mathematical Reasoning\n",
      "Computational Modelling of Mathematical Reasoning\n"
     ]
    }
   ],
   "source": [
    "# test CBOW model\n",
    "simdocs = similar_docs(model_cbow, rse_fellowship)\n",
    "print_results(simdocs)"
   ]
  },
  {
   "cell_type": "code",
   "execution_count": 11,
   "metadata": {},
   "outputs": [],
   "source": [
    "model_dmv1 = Doc2Vec.load('dmv1.model', mmap='r')"
   ]
  },
  {
   "cell_type": "code",
   "execution_count": 12,
   "metadata": {},
   "outputs": [
    {
     "name": "stdout",
     "output_type": "stream",
     "text": [
      "Asterism: Pegasus and dispel4py hybrid workflows for data-intensive science\n",
      "Autoencoding Variational Inference for Topic Models\n",
      "Strategies to promote adoption and usage of an application to support asthma self-management:\n",
      "Data Wrangling for Big Data: Challenges and Opportunities\n",
      "Learning Continuous Semantic Representations of Symbolic Expressions\n",
      "DARE: A Reflective Platform Designed to Enable Agile Data-Driven Research on the Cloud\n",
      "EGEE: Building a pan-European Grid Training Organisation\n",
      "Working time reduction policy in a sustainable economy\n",
      "Sonification of Gestures Using Specknets\n",
      "Observations and Research Challenges in Map Generalisation and Multiple Representation\n"
     ]
    }
   ],
   "source": [
    "simdocs = similar_docs(model_dmv1, dare)\n",
    "print_results(simdocs)"
   ]
  },
  {
   "cell_type": "code",
   "execution_count": 13,
   "metadata": {},
   "outputs": [
    {
     "name": "stdout",
     "output_type": "stream",
     "text": [
      "Visiting Fellowship - Ozsoy\n",
      "Constructing, Selecting and Repairing Representations of Knowledge\n",
      "Compilers for High Performance\n",
      "Beyond bitext: Five open problems in machine translation\n",
      "Dealing With Software: the Research Data Issues\n",
      "EU-BRIDGE MT: Combined Machine Translation\n",
      "Computer Animation\n",
      "What can national data sets tell us about inclusion and pupil achievement?\n",
      "Statistical Techniques for Translating to Morphologically Rich Languages (Dagstuhl Seminar 14061)\n",
      "ACM SIGPLAN Conference on Programming Language Design and Implementation, PLDI '14, Edinburgh, United Kingdom - June 09 - 11, 2014\n"
     ]
    }
   ],
   "source": [
    "simdocs = similar_docs(model_dmv1, rse_fellowship)\n",
    "print_results(simdocs)"
   ]
  },
  {
   "cell_type": "code",
   "execution_count": 14,
   "metadata": {},
   "outputs": [],
   "source": [
    "model_dmv2 = Doc2Vec.load('dmv2.model', mmap='r')"
   ]
  },
  {
   "cell_type": "code",
   "execution_count": 15,
   "metadata": {},
   "outputs": [
    {
     "name": "stdout",
     "output_type": "stream",
     "text": [
      "Ad hockery in secondhand markets, design and ethnomethodological studies\n",
      "Building the Peeragogy Accelerator\n",
      "Journeys in mathematical landscapes: genius or craft?\n",
      "Categories, Software and Meaning\n",
      "Human instruments, imagined return\n",
      "Reducing Construction Carbon Emissions in Logistics (ReCCEL)\n",
      "Enhancing Student Employability with Simulation: The Virtual Oil Rig and DART\n",
      "The power of synthetic biology for bioproduction, remediation and pollution control\n",
      "Unexpected encounters with Deep Time\n",
      "Pass the Bucks: Credit, Blame, and the Global Competition for Investment\n"
     ]
    }
   ],
   "source": [
    "simdocs = similar_docs(model_dmv2, dare)\n",
    "print_results(simdocs)"
   ]
  },
  {
   "cell_type": "code",
   "execution_count": 16,
   "metadata": {},
   "outputs": [
    {
     "name": "stdout",
     "output_type": "stream",
     "text": [
      "Strategies and Policies to Support and Advance Education in e-Science\n",
      "An Interview with Ivette Gomes\n",
      "Exploring new business models for monetising digitisation beyond image licensing to promote adoption of OpenGLAM\n",
      "Negotiating in a brave new world: Challenges and opportunities for the field of negotiation science\n",
      "Journeys in mathematical landscapes: genius or craft?\n",
      "E-science Core Programme Senior Research Fellow\n",
      "Picture-Book Professors\n",
      "Hardy, Littlewood and polymath\n",
      "Mapping the biosphere\n",
      "RSE Travel assistance grant\n"
     ]
    }
   ],
   "source": [
    "simdocs = similar_docs(model_dmv2, rse_fellowship)\n",
    "print_results(simdocs)"
   ]
  }
 ],
 "metadata": {
  "kernelspec": {
   "display_name": "Python 3",
   "language": "python",
   "name": "python3"
  },
  "language_info": {
   "codemirror_mode": {
    "name": "ipython",
    "version": 3
   },
   "file_extension": ".py",
   "mimetype": "text/x-python",
   "name": "python",
   "nbconvert_exporter": "python",
   "pygments_lexer": "ipython3",
   "version": "3.8.3"
  }
 },
 "nbformat": 4,
 "nbformat_minor": 4
}
