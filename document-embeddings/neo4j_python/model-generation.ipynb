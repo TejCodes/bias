{
 "cells": [
  {
   "cell_type": "code",
   "execution_count": 1,
   "metadata": {},
   "outputs": [],
   "source": [
    "import json\n",
    "import os\n",
    "import re\n",
    "\n",
    "import gensim\n",
    "from gensim.models.doc2vec import Doc2Vec, TaggedDocument \n",
    "\n",
    "import multiprocessing\n",
    "\n",
    "from doc2vec_prep import stem_text"
   ]
  },
  {
   "cell_type": "code",
   "execution_count": 34,
   "metadata": {},
   "outputs": [],
   "source": [
    "def read_input(filename, type):\n",
    "    with open(filename) as f:\n",
    "        docs = json.load(f)\n",
    "    print(f'Loaded {len(docs)} {type}')\n",
    "    return docs"
   ]
  },
  {
   "cell_type": "code",
   "execution_count": null,
   "metadata": {},
   "outputs": [],
   "source": [
    "publications_file = 'epcc_inf_publications.json'\n",
    "projects_file = 'epcc_inf_projects.json'\n",
    "staff_file = 'epcc_inf_staff.json'\n",
    "\n",
    "min_words = 10\n",
    "\n",
    "publications = read_input(publications_file, 'publications')\n",
    "projects = read_input(projects_file, 'projects')"
   ]
  },
  {
   "cell_type": "code",
   "execution_count": 65,
   "metadata": {},
   "outputs": [
    {
     "name": "stdout",
     "output_type": "stream",
     "text": [
      "#cores = 1\n",
      "#cores = 8\n"
     ]
    }
   ],
   "source": [
    "num_cores = multiprocessing.cpu_count()\n",
    "print(f'#cores = {num_cores}')\n",
    "num_cores = 8 # should be 8??\n",
    "print(f'#cores = {num_cores}')"
   ]
  },
  {
   "cell_type": "code",
   "execution_count": 33,
   "metadata": {},
   "outputs": [],
   "source": [
    "def create_documents(publications, projects):\n",
    "    training_data = []\n",
    "    for pub_id, publication in publications:\n",
    "        text = publication['abstract'] + publication['title']\n",
    "        words = stem_text(text)\n",
    "        if len(words) >= min_words:\n",
    "            training_data.append(TaggedDocument(words=words, tags=[pub_id]))\n",
    "    for proj_id, project in projects:\n",
    "        text = project['title'] + project['description']\n",
    "        words = stem_text(text)\n",
    "        if len(words) >= min_words:\n",
    "            training_data.append(TaggedDocument(words=words, tags=[proj_id]))\n",
    "\n",
    "    return training_data"
   ]
  },
  {
   "cell_type": "code",
   "execution_count": 35,
   "metadata": {},
   "outputs": [],
   "source": [
    "def create_training_data(publications, projects):\n",
    "    docs_with_abstract = filter(lambda p: p[1]['abstract'] != '', publications.items())\n",
    "    docs_with_description = filter(lambda p: p[1]['description'] != '', projects.items())    \n",
    "    training_data = create_stem_tagged_document(docs_with_abstract, docs_with_description)\n",
    "    return training_data"
   ]
  },
  {
   "cell_type": "code",
   "execution_count": 37,
   "metadata": {},
   "outputs": [
    {
     "name": "stdout",
     "output_type": "stream",
     "text": [
      "Creating training data\n",
      "Training data contains 16497 documents\n"
     ]
    }
   ],
   "source": [
    "print('Creating training data')\n",
    "training_data = create_training_data(publications, projects)\n",
    "print(f'Training data contains {len(training_data)} documents')"
   ]
  },
  {
   "cell_type": "code",
   "execution_count": 17,
   "metadata": {},
   "outputs": [],
   "source": [
    "def create_model(training_data, hyperparams):\n",
    "    # Create the model\n",
    "    print('Creating the model')\n",
    "    model = Doc2Vec(**hyperparams)\n",
    "    model.build_vocab(training_data)\n",
    "    model.train(training_data, total_examples=model.corpus_count, epochs=model.epochs)\n",
    "    return model"
   ]
  },
  {
   "cell_type": "code",
   "execution_count": 64,
   "metadata": {},
   "outputs": [
    {
     "name": "stdout",
     "output_type": "stream",
     "text": [
      "Creating the model\n",
      "complete\n",
      "CPU times: user 8min 44s, sys: 661 ms, total: 8min 44s\n",
      "Wall time: 9min 9s\n"
     ]
    }
   ],
   "source": [
    "%%time\n",
    "hyperparams_cbow  = {\n",
    "    'vector_size': 300,\n",
    "    'min_count': 1,\n",
    "    'epochs': 100,\n",
    "    'window': 15,\n",
    "    'negative': 5, \n",
    "    'sampling_threshold': 1e-5, \n",
    "    'workers': num_cores, \n",
    "    'dm': 0\n",
    "}\n",
    "model_cbow = create_model(training_data, hyperparams_cbow)\n",
    "model_cbow.save('cbow.model')\n",
    "print('complete')"
   ]
  },
  {
   "cell_type": "code",
   "execution_count": 66,
   "metadata": {},
   "outputs": [
    {
     "name": "stdout",
     "output_type": "stream",
     "text": [
      "Creating the model\n",
      "complete\n",
      "CPU times: user 15min 37s, sys: 1.07 s, total: 15min 38s\n",
      "Wall time: 16min 23s\n"
     ]
    }
   ],
   "source": [
    "%%time\n",
    "hyperparams_dmv1  = {\n",
    "    'vector_size': 300,\n",
    "    'min_count': 1,\n",
    "    'epochs': 100,\n",
    "    'window': 15,\n",
    "    'negative': 5, \n",
    "    'sampling_threshold': 1e-5, \n",
    "    'workers': num_cores, \n",
    "    'dm': 1\n",
    "}\n",
    "\n",
    "model_dmv1 = create_model(training_data, hyperparams_dmv1)\n",
    "model_dmv1.save('dmv1.model')\n",
    "print('complete')"
   ]
  },
  {
   "cell_type": "code",
   "execution_count": 67,
   "metadata": {},
   "outputs": [
    {
     "name": "stdout",
     "output_type": "stream",
     "text": [
      "Creating the model\n",
      "complete\n"
     ]
    }
   ],
   "source": [
    "hyperparams_dmv2  = {\n",
    "    'vector_size': 300,\n",
    "    'min_count': 1,\n",
    "    'epochs': 100,\n",
    "    'window': 3,\n",
    "    'hs': 0,\n",
    "    'negative': 5,\n",
    "    'ns_exponent': -0.5,\n",
    "    'sampling_threshold': 1e-5, \n",
    "    'workers': multiprocessing.cpu_count(), \n",
    "    'dm': 1\n",
    "}\n",
    "\n",
    "model_dmv2 = create_model(training_data, hyperparams_dmv2)\n",
    "model_dmv2.save('dmv2.model')\n",
    "print('complete')"
   ]
  },
  {
   "cell_type": "code",
   "execution_count": null,
   "metadata": {},
   "outputs": [],
   "source": []
  }
 ],
 "metadata": {
  "kernelspec": {
   "display_name": "Python 3",
   "language": "python",
   "name": "python3"
  },
  "language_info": {
   "codemirror_mode": {
    "name": "ipython",
    "version": 3
   },
   "file_extension": ".py",
   "mimetype": "text/x-python",
   "name": "python",
   "nbconvert_exporter": "python",
   "pygments_lexer": "ipython3",
   "version": "3.8.3"
  }
 },
 "nbformat": 4,
 "nbformat_minor": 4
}
