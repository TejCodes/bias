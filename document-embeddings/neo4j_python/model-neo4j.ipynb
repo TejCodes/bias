{
 "cells": [
  {
   "cell_type": "code",
   "execution_count": 2,
   "metadata": {},
   "outputs": [],
   "source": [
    "import glob\n",
    "import json\n",
    "from tqdm import tqdm\n",
    "\n",
    "from gensim.models.doc2vec import Doc2Vec, TaggedDocument \n",
    "\n",
    "from doc2vec_prep import stem_text"
   ]
  },
  {
   "cell_type": "code",
   "execution_count": 2,
   "metadata": {},
   "outputs": [],
   "source": [
    "import configparser\n",
    "from neo4j import GraphDatabase"
   ]
  },
  {
   "cell_type": "code",
   "execution_count": 3,
   "metadata": {},
   "outputs": [],
   "source": [
    "# Init the Doc2Vec model\n",
    "hyperparams  = {\n",
    "    'vector_size': 300,\n",
    "    'min_count': 1,\n",
    "    'epochs': 100,\n",
    "    'window': 15,\n",
    "    'negative': 5, \n",
    "    'sampling_threshold': 1e-5, \n",
    "    'workers': 8, \n",
    "    'dm': 0\n",
    "}\n",
    "min_length = 10 # number of stemmed words in document"
   ]
  },
  {
   "cell_type": "code",
   "execution_count": 4,
   "metadata": {},
   "outputs": [],
   "source": [
    "def generate_documents(driver, query):\n",
    "    research_outputs = set()\n",
    "    gen_docs = 0\n",
    "    with driver.session() as session:\n",
    "        result = session.run(query)\n",
    "        for r in result:\n",
    "            resout_node = r['r']\n",
    "            resout_id = resout_node['uuid']\n",
    "            if resout_id not in research_outputs:\n",
    "                research_outputs.add(resout_id)\n",
    "            if resout_node['abstract_value'] != '':\n",
    "                text = resout_node['abstract_value'] + resout_node['title']\n",
    "                words = stem_text(text)\n",
    "                if len(words) >= min_length:\n",
    "                    gen_docs += 1\n",
    "                    yield TaggedDocument(words=words, tags=[resout_id])\n",
    "    print(f'Generated {gen_docs} documents')"
   ]
  },
  {
   "cell_type": "code",
   "execution_count": 5,
   "metadata": {},
   "outputs": [],
   "source": [
    "config = configparser.ConfigParser()\n",
    "config.read('.env')\n",
    "uri = \"bolt://roag.is.ed.ac.uk:7687\"\n",
    "driver = GraphDatabase.driver(uri, auth=(config['auth']['USERNAME'], config['auth']['PASSWORD']))"
   ]
  },
  {
   "cell_type": "markdown",
   "metadata": {},
   "source": [
    "Build the model with data input directly from ROAG. If you remove the \"LIMIT 1000\" it uses all data (105,403 documents on 25 June)."
   ]
  },
  {
   "cell_type": "code",
   "execution_count": 6,
   "metadata": {},
   "outputs": [],
   "source": [
    "model = Doc2Vec(**hyperparams)\n",
    "query = 'MATCH (r:PURE:ResearchOutput) RETURN r LIMIT 1000'"
   ]
  },
  {
   "cell_type": "code",
   "execution_count": 7,
   "metadata": {},
   "outputs": [
    {
     "name": "stderr",
     "output_type": "stream",
     "text": [
      "845it [00:02, 354.29it/s]\n"
     ]
    },
    {
     "name": "stdout",
     "output_type": "stream",
     "text": [
      "Generated 845 documents\n"
     ]
    }
   ],
   "source": [
    "model.build_vocab(tqdm(generate_documents(driver, query)))"
   ]
  },
  {
   "cell_type": "code",
   "execution_count": 8,
   "metadata": {},
   "outputs": [
    {
     "name": "stderr",
     "output_type": "stream",
     "text": [
      "845it [00:02, 306.22it/s]\n"
     ]
    },
    {
     "name": "stdout",
     "output_type": "stream",
     "text": [
      "Generated 845 documents\n"
     ]
    }
   ],
   "source": [
    "model.train(\n",
    "    tqdm(generate_documents(driver, query)), \n",
    "    total_examples=model.corpus_count, \n",
    "    epochs=model.epochs)"
   ]
  },
  {
   "cell_type": "markdown",
   "metadata": {},
   "source": [
    "## Load existing model"
   ]
  },
  {
   "cell_type": "code",
   "execution_count": 4,
   "metadata": {},
   "outputs": [],
   "source": [
    "model = Doc2Vec.load('doc2vec_neo4j_v1.model', mmap='r')"
   ]
  },
  {
   "cell_type": "markdown",
   "metadata": {},
   "source": [
    "## Test model"
   ]
  },
  {
   "cell_type": "code",
   "execution_count": 5,
   "metadata": {},
   "outputs": [],
   "source": [
    "def get_document_neo4j(driver, doc_id):\n",
    "    document = None\n",
    "    with driver.session() as session:        \n",
    "        query = f\"\"\"\n",
    "            MATCH (r:PURE:ResearchOutput) -- (p:PURE:Person)\n",
    "            WHERE r.uuid = '{doc_id}' \n",
    "            RETURN r, p\n",
    "        \"\"\"\n",
    "        result = session.run(query)\n",
    "        author_ids = set()\n",
    "        authors = []\n",
    "        for r in result:\n",
    "            if document is None:\n",
    "                resout_node = r['r']\n",
    "                document = {\n",
    "                    'id': resout_node['uuid'],\n",
    "                    'url': resout_node['info_portalUrl'],\n",
    "                    'abstract' : resout_node['abstract_value'],\n",
    "                    'title': resout_node['title'],\n",
    "                    'keywords': resout_node['keywords'],\n",
    "                }\n",
    "\n",
    "            author_id = r['p']['uuid']\n",
    "            author = {\n",
    "                'name': f\"{r['p']['name_firstName']} {r['p']['name_lastName']}\",\n",
    "                'url': r['p']['info_portalUrl'],\n",
    "                'uuid': author_id,\n",
    "            }\n",
    "            if author_id not in author_ids:\n",
    "                authors.append(author)\n",
    "                author_ids.add(author_id)\n",
    "    \n",
    "        document['authors'] = authors\n",
    "\n",
    "    return document"
   ]
  },
  {
   "cell_type": "code",
   "execution_count": 6,
   "metadata": {},
   "outputs": [],
   "source": [
    "text = '''\n",
    "DARE will deliver a new working environment for the teams of professionals wrestling with the challenge of extreme data, computing and complexity. It will present methods, in abstract terms, so that domain experts can understand, change and use them effectively. It will provide a set of tools that visualise the runs of these methods in summary form still without distracting technical detail. Those tools will allow drill down for diagnostics and validation, and help with the organisation of campaigns involving multiple runs and immense amount of data. This holistic abstract presentation together with automation that eliminates chores will push back the complexity barrier, accelerate innovation and improve the productivity of our hard-pressed expert teams.\n",
    "\n",
    "The data-scale barrier will be pushed by a combination of optimised mappings and automation. To achieve this, we depend on learning the critical parameters in the cost functions dynamically, taking into account data movement, storage costs, limits and other resource costs in formulae weighted by community choices and priorities. The computational scale barrier will be pushed by a similar strategy. However, the methods we enable often have a mixture of computationally challenging parts and data challenging parts, best allocated to different platforms. In today’s R&D the practitioners have to organise this and the inherent data movement themselves. DARE’s optimised mappings will automatically partition parts of the work to different platforms and organise the coupled use of those platforms including any necessary data movements and adaptations. Most professional R&D requires sustained use of such methods. Sustaining their meaning across platforms means that working practices do not need to change and that the original investment in learning and in method development is retained.\n",
    "DARE will work with two research infrastructures: EPOS (European Plate Observing System) and IS-ENES (Infrastructure for the European Network of Earth System Modelling), engaging in the co-design and production use of extreme methods that address these challenges. With our partners, we will show:\n",
    "\n",
    "Accelerated innovation in the face of all three extremes.\n",
    "Significantly increased productivity for expert teams and a wide range of users.\n",
    "Substantial advances in the science and applications achievable in campaigns'''"
   ]
  },
  {
   "cell_type": "code",
   "execution_count": 7,
   "metadata": {},
   "outputs": [],
   "source": [
    "vector = model.infer_vector(stem_text(text))\n",
    "simdocs = model.docvecs.most_similar(positive=[vector])"
   ]
  },
  {
   "cell_type": "code",
   "execution_count": 10,
   "metadata": {},
   "outputs": [
    {
     "name": "stdout",
     "output_type": "stream",
     "text": [
      "18ee4a19-f576-4b9b-9fc3-2e9ad8c85a1e\n",
      "0.42743241786956787\n",
      "758e5620-f1ae-45ce-8613-1e0851866f51\n",
      "0.4259878993034363\n",
      "8929dd86-1c96-4b1d-925f-aabae06e8145\n",
      "0.4253643751144409\n",
      "933114c3-7f7d-4d79-a308-b3cda487198d\n",
      "0.42303478717803955\n",
      "0421859d-052c-40d9-a509-e6c9378115ea\n",
      "0.4205206334590912\n",
      "a76fb7a1-81e0-484d-a8ba-bfa7de06aa05\n",
      "0.418972373008728\n",
      "782eca7d-db87-4188-8a7d-cc84cc6c938d\n",
      "0.41811078786849976\n",
      "138d79ec-9f1f-40c9-9537-7ae9df7f8315\n",
      "0.41767820715904236\n",
      "70c477a5-824b-4d81-ac56-42e51b440c68\n",
      "0.41694849729537964\n",
      "61708493-f117-43ed-8a16-f73adb344299\n",
      "0.4168996214866638\n"
     ]
    }
   ],
   "source": [
    "for doc_id, sim in simdocs:\n",
    "    print(doc_id)\n",
    "    print(sim)"
   ]
  },
  {
   "cell_type": "code",
   "execution_count": 8,
   "metadata": {},
   "outputs": [
    {
     "ename": "NameError",
     "evalue": "name 'driver' is not defined",
     "output_type": "error",
     "traceback": [
      "\u001b[0;31m---------------------------------------------------------------------------\u001b[0m",
      "\u001b[0;31mNameError\u001b[0m                                 Traceback (most recent call last)",
      "\u001b[0;32m<ipython-input-8-2e1d0c747324>\u001b[0m in \u001b[0;36m<module>\u001b[0;34m\u001b[0m\n\u001b[1;32m      1\u001b[0m \u001b[0;32mfor\u001b[0m \u001b[0mdoc_id\u001b[0m\u001b[0;34m,\u001b[0m \u001b[0msim\u001b[0m \u001b[0;32min\u001b[0m \u001b[0msimdocs\u001b[0m\u001b[0;34m:\u001b[0m\u001b[0;34m\u001b[0m\u001b[0;34m\u001b[0m\u001b[0m\n\u001b[0;32m----> 2\u001b[0;31m     \u001b[0mdoc\u001b[0m \u001b[0;34m=\u001b[0m \u001b[0mget_document_neo4j\u001b[0m\u001b[0;34m(\u001b[0m\u001b[0mdriver\u001b[0m\u001b[0;34m,\u001b[0m \u001b[0mdoc_id\u001b[0m\u001b[0;34m)\u001b[0m\u001b[0;34m\u001b[0m\u001b[0;34m\u001b[0m\u001b[0m\n\u001b[0m\u001b[1;32m      3\u001b[0m     \u001b[0mprint\u001b[0m\u001b[0;34m(\u001b[0m\u001b[0mdoc\u001b[0m\u001b[0;34m[\u001b[0m\u001b[0;34m'title'\u001b[0m\u001b[0;34m]\u001b[0m\u001b[0;34m)\u001b[0m\u001b[0;34m\u001b[0m\u001b[0;34m\u001b[0m\u001b[0m\n\u001b[1;32m      4\u001b[0m     \u001b[0;32mfor\u001b[0m \u001b[0mauthor\u001b[0m \u001b[0;32min\u001b[0m \u001b[0mdoc\u001b[0m\u001b[0;34m[\u001b[0m\u001b[0;34m'authors'\u001b[0m\u001b[0;34m]\u001b[0m\u001b[0;34m:\u001b[0m\u001b[0;34m\u001b[0m\u001b[0;34m\u001b[0m\u001b[0m\n\u001b[1;32m      5\u001b[0m         \u001b[0mprint\u001b[0m\u001b[0;34m(\u001b[0m\u001b[0mauthor\u001b[0m\u001b[0;34m[\u001b[0m\u001b[0;34m'name'\u001b[0m\u001b[0;34m]\u001b[0m\u001b[0;34m)\u001b[0m\u001b[0;34m\u001b[0m\u001b[0;34m\u001b[0m\u001b[0m\n",
      "\u001b[0;31mNameError\u001b[0m: name 'driver' is not defined"
     ]
    }
   ],
   "source": [
    "for doc_id, sim in simdocs:\n",
    "    doc = get_document_neo4j(driver, doc_id)\n",
    "    print(doc['title'])\n",
    "    for author in doc['authors']:\n",
    "        print(author['name'])\n",
    "    print()"
   ]
  },
  {
   "cell_type": "code",
   "execution_count": null,
   "metadata": {},
   "outputs": [],
   "source": []
  }
 ],
 "metadata": {
  "kernelspec": {
   "display_name": "Python 3",
   "language": "python",
   "name": "python3"
  },
  "language_info": {
   "codemirror_mode": {
    "name": "ipython",
    "version": 3
   },
   "file_extension": ".py",
   "mimetype": "text/x-python",
   "name": "python",
   "nbconvert_exporter": "python",
   "pygments_lexer": "ipython3",
   "version": "3.8.3"
  }
 },
 "nbformat": 4,
 "nbformat_minor": 4
}
